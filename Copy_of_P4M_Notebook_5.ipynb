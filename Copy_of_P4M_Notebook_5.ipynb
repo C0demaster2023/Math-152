{
  "nbformat": 4,
  "nbformat_minor": 0,
  "metadata": {
    "colab": {
      "provenance": [],
      "include_colab_link": true
    },
    "kernelspec": {
      "name": "python3",
      "display_name": "Python 3"
    }
  },
  "cells": [
    {
      "cell_type": "markdown",
      "metadata": {
        "id": "view-in-github",
        "colab_type": "text"
      },
      "source": [
        "<a href=\"https://colab.research.google.com/github/C0demaster2023/Math-152/blob/main/Copy_of_P4M_Notebook_5.ipynb\" target=\"_parent\"><img src=\"https://colab.research.google.com/assets/colab-badge.svg\" alt=\"Open In Colab\"/></a>"
      ]
    },
    {
      "cell_type": "markdown",
      "metadata": {
        "id": "3Vh71OubDeRq"
      },
      "source": [
        "# Part 5:  Putting it together...\n",
        "\n",
        "To wrap things up, we are going to bring together the techniques we have seen, and attempt a few challenges.\n",
        "\n",
        "Please submit this notebook by 5pm (California time) on Wednesday, March 17th.  Your submission should include answers to all three questions from the first (Repetition and benchmarking) section, and **two** of the challenging problems."
      ]
    },
    {
      "cell_type": "markdown",
      "metadata": {
        "id": "tmXRsSLiDw2i"
      },
      "source": [
        "## Repetition and benchmarking\n",
        "\n",
        "Computers are very good at repetition.  As your programming skills improve, you can more easily coax your computer into performing more repetitions.  We have seen at least three ways of performing repetition:  with loops (e.g, for and while loops), with lists (especially slicing and comprehension), and with numpy arrays (especially vectorized functions).  \n",
        "\n",
        "It is good to see this, in a simple example, to reflect on what you've learned this quarter.  Our simple example will be producing a list of squares $n^2$ for $n$ in a range of numbers.\n",
        "\n",
        "The first things we learned were how to use Python as a calculator, printing \"answers\" to the screen, and using a \"for loop\" to repeat things.  Here is a bit of code in that spirit."
      ]
    },
    {
      "cell_type": "code",
      "metadata": {
        "id": "1_Gk52ZaDd1M",
        "colab": {
          "base_uri": "https://localhost:8080/"
        },
        "outputId": "f9d2c621-d32c-48ff-bbaa-6ea60abe992d"
      },
      "source": [
        "for n in range(10):\n",
        "  print(n*n)"
      ],
      "execution_count": null,
      "outputs": [
        {
          "output_type": "stream",
          "name": "stdout",
          "text": [
            "0\n",
            "1\n",
            "4\n",
            "9\n",
            "16\n",
            "25\n",
            "36\n",
            "49\n",
            "64\n",
            "81\n"
          ]
        }
      ]
    },
    {
      "cell_type": "markdown",
      "metadata": {
        "id": "CI7QBmfi8jn1"
      },
      "source": [
        "Then we learned about lists.  Here are two ways to make a list of the squares, from $0^2$ up to $9^2$.  We print the list at the end of each code block."
      ]
    },
    {
      "cell_type": "code",
      "metadata": {
        "id": "_pSgH2YtEoDT",
        "colab": {
          "base_uri": "https://localhost:8080/"
        },
        "outputId": "37713793-f07e-4f76-a379-c10e16669396"
      },
      "source": [
        "L = []\n",
        "for n in range(10):\n",
        "  L.append(n*n)\n",
        "print(L)"
      ],
      "execution_count": null,
      "outputs": [
        {
          "output_type": "stream",
          "name": "stdout",
          "text": [
            "[0, 1, 4, 9, 16, 25, 36, 49, 64, 81]\n"
          ]
        }
      ]
    },
    {
      "cell_type": "code",
      "metadata": {
        "id": "7arqtxfWESCf",
        "colab": {
          "base_uri": "https://localhost:8080/"
        },
        "outputId": "f7d3e2f2-7497-4bc8-c122-da566bb81a33"
      },
      "source": [
        "L = [0]*10\n",
        "for n in range(10):\n",
        "  L[n] = n*n\n",
        "print(L)"
      ],
      "execution_count": null,
      "outputs": [
        {
          "output_type": "stream",
          "name": "stdout",
          "text": [
            "[0, 1, 4, 9, 16, 25, 36, 49, 64, 81]\n"
          ]
        }
      ]
    },
    {
      "cell_type": "markdown",
      "metadata": {
        "id": "BG8Z6La18uv4"
      },
      "source": [
        "Hopefully you learned to give your lists better names, like `square_list`.  A very slick Pythonic way of producing a list is with \"list comprehension\".  Such an approach is in the code below."
      ]
    },
    {
      "cell_type": "code",
      "metadata": {
        "id": "uTel6wOOEZrm",
        "colab": {
          "base_uri": "https://localhost:8080/"
        },
        "outputId": "34fa70cd-62dd-4b92-b725-536870cb841b"
      },
      "source": [
        "square_list = [n*n for n in range(10)]\n",
        "print(square_list)"
      ],
      "execution_count": null,
      "outputs": [
        {
          "output_type": "stream",
          "name": "stdout",
          "text": [
            "[0, 1, 4, 9, 16, 25, 36, 49, 64, 81]\n"
          ]
        }
      ]
    },
    {
      "cell_type": "markdown",
      "metadata": {
        "id": "EDUFarMO836b"
      },
      "source": [
        "Finally, we learned about the numpy package, which pumps arrays through the processor very quickly.  A numpy approach is below."
      ]
    },
    {
      "cell_type": "code",
      "metadata": {
        "id": "KWyPzv53EfRW"
      },
      "source": [
        "import numpy as np # First we have to load the package."
      ],
      "execution_count": 1,
      "outputs": []
    },
    {
      "cell_type": "code",
      "metadata": {
        "id": "sCWmWLfWEgqV",
        "colab": {
          "base_uri": "https://localhost:8080/"
        },
        "outputId": "5d02c211-171e-46a7-a01d-6b1d790c2651"
      },
      "source": [
        "A = np.arange(10)\n",
        "print(A*A)"
      ],
      "execution_count": null,
      "outputs": [
        {
          "output_type": "stream",
          "name": "stdout",
          "text": [
            "[ 0  1  4  9 16 25 36 49 64 81]\n"
          ]
        }
      ]
    },
    {
      "cell_type": "markdown",
      "metadata": {
        "id": "WEKhWP4oE1GJ"
      },
      "source": [
        "Let's consider the question:  what is the fastest way to produce a list (or array) of squares?  To answer it, we will wrap things in different functions, and carry out some time analysis.  \n",
        "\n",
        "Notice that the functions are as identical as possible.  The method of creating a list/array is the different in each function.  But all the functions take a single input `N` and return a list or array with the squares of 0,...,N-1.  Note that there are **no print statements**!  Printing takes time, and we don't care about how much time it takes to *print* a list on your screen.  Also, if we run %timeit, then a print statement will fill your screen with tens of thousands of printed messages!"
      ]
    },
    {
      "cell_type": "code",
      "metadata": {
        "id": "8fDM7N4UEkj1"
      },
      "source": [
        "def make_sq_1(N):\n",
        "  L = []\n",
        "  for n in range(N):\n",
        "    L.append(n*n)\n",
        "  return L"
      ],
      "execution_count": null,
      "outputs": []
    },
    {
      "cell_type": "code",
      "metadata": {
        "id": "qEZsZmViFJAE"
      },
      "source": [
        "def make_sq_2(N):\n",
        "  L = [0] * N\n",
        "  for n in range(N):\n",
        "    L[n] = n*n\n",
        "  return L"
      ],
      "execution_count": null,
      "outputs": []
    },
    {
      "cell_type": "code",
      "metadata": {
        "id": "NhGyT-BYFOpM"
      },
      "source": [
        "def make_sq_3(N):\n",
        "  return [n*n for n in range(N)]"
      ],
      "execution_count": null,
      "outputs": []
    },
    {
      "cell_type": "code",
      "metadata": {
        "id": "Api8iz1eFRlN"
      },
      "source": [
        "def make_sq_4(N):\n",
        "  A = np.arange(N)\n",
        "  return A*A"
      ],
      "execution_count": null,
      "outputs": []
    },
    {
      "cell_type": "code",
      "metadata": {
        "id": "lZGA3AmEFVs0",
        "colab": {
          "base_uri": "https://localhost:8080/"
        },
        "outputId": "ffd2676c-8ed1-41e8-fab3-d7c38a1d7c21"
      },
      "source": [
        "%timeit make_sq_1(1000)"
      ],
      "execution_count": null,
      "outputs": [
        {
          "output_type": "stream",
          "name": "stdout",
          "text": [
            "100 µs ± 17.4 µs per loop (mean ± std. dev. of 7 runs, 10000 loops each)\n"
          ]
        }
      ]
    },
    {
      "cell_type": "code",
      "metadata": {
        "id": "FVUJxnmfFYSU",
        "colab": {
          "base_uri": "https://localhost:8080/"
        },
        "outputId": "7b0fd748-9b89-4036-dd0e-e1fa9f821dd6"
      },
      "source": [
        "%timeit make_sq_2(1000)"
      ],
      "execution_count": null,
      "outputs": [
        {
          "output_type": "stream",
          "name": "stdout",
          "text": [
            "77.1 µs ± 11.1 µs per loop (mean ± std. dev. of 7 runs, 10000 loops each)\n"
          ]
        }
      ]
    },
    {
      "cell_type": "code",
      "metadata": {
        "id": "Zt1l8hOsFZxs",
        "colab": {
          "base_uri": "https://localhost:8080/"
        },
        "outputId": "a64ff369-da67-4cdf-c71a-998d87775cc4"
      },
      "source": [
        "%timeit make_sq_3(1000)"
      ],
      "execution_count": null,
      "outputs": [
        {
          "output_type": "stream",
          "name": "stdout",
          "text": [
            "67.1 µs ± 11.3 µs per loop (mean ± std. dev. of 7 runs, 10000 loops each)\n"
          ]
        }
      ]
    },
    {
      "cell_type": "code",
      "metadata": {
        "id": "pSVmRwAdFb5s",
        "colab": {
          "base_uri": "https://localhost:8080/"
        },
        "outputId": "b9d057e8-9936-4be3-f554-2ce0f290b52e"
      },
      "source": [
        "%timeit make_sq_4(1000)"
      ],
      "execution_count": null,
      "outputs": [
        {
          "output_type": "stream",
          "name": "stdout",
          "text": [
            "3.69 µs ± 523 ns per loop (mean ± std. dev. of 7 runs, 100000 loops each)\n"
          ]
        }
      ]
    },
    {
      "cell_type": "markdown",
      "metadata": {
        "id": "wtjJCpIvF965"
      },
      "source": [
        "These benchmarks are useful, but let's do a graphical analysis.  This is the last thing we studied."
      ]
    },
    {
      "cell_type": "code",
      "metadata": {
        "id": "CNgnxRhFGIz9"
      },
      "source": [
        "import matplotlib.pyplot as plt\n",
        "import seaborn as sns # In case we want some modern stylings.\n",
        "import time as time"
      ],
      "execution_count": 2,
      "outputs": []
    },
    {
      "cell_type": "markdown",
      "metadata": {
        "id": "_nCiB6uSJT2C"
      },
      "source": [
        "Now we are going to create a graph to benchmark the performance of these three functions.  This will use a few new programming techniques."
      ]
    },
    {
      "cell_type": "code",
      "metadata": {
        "id": "3Qbzo01tFdi8",
        "colab": {
          "base_uri": "https://localhost:8080/",
          "height": 373
        },
        "outputId": "69bf68b4-0830-499a-e4f5-525a58756f46"
      },
      "source": [
        "fig,ax = plt.subplots(1,1,figsize=(8,5)) # Initialize a plot.\n",
        "N_array = np.array([2**n for n in range(1,21)]) # We'll try N in the array [2,4,8,..,~1 million]\n",
        "for method in [make_sq_1, make_sq_2, make_sq_3, make_sq_4, make_sq_5, make_sq_6, make_sq_7]: # A list of functions, oh my!\n",
        "  time_array = np.zeros(len(N_array)) # Initialize an array of zeros\n",
        "  for j,N in enumerate(N_array):  # See notes afterwards about the enumerate command.\n",
        "    time_tot = 0\n",
        "    for reps in range(10): # Average of 10 repetitions.\n",
        "      start_time = time.time()\n",
        "      method(N)\n",
        "      end_time = time.time()\n",
        "      time_tot += end_time - start_time\n",
        "    time_ave = time_tot / 10\n",
        "    time_array[j] = time_ave\n",
        "  plt.plot(N_array, time_array, label='Time using function '+method.__name__)\n",
        "plt.legend()\n",
        "plt.xscale('log')\n",
        "plt.yscale('log')\n",
        "plt.suptitle('Time to create a list of squares from 1 to N')\n",
        "plt.xlabel('Length of list (N)')\n",
        "plt.ylabel('Time (seconds)')\n",
        "plt.show()"
      ],
      "execution_count": null,
      "outputs": [
        {
          "output_type": "display_data",
          "data": {
            "text/plain": [
              "<Figure size 576x360 with 1 Axes>"
            ],
            "image/png": "[encoded data removed]"
          },
          "metadata": {
            "needs_background": "light"
          }
        }
      ]
    },
    {
      "cell_type": "code",
      "metadata": {
        "id": "D7YqhyfZHgW5"
      },
      "source": [],
      "execution_count": null,
      "outputs": []
    },
    {
      "cell_type": "markdown",
      "metadata": {
        "id": "eWyplW1_Jfak"
      },
      "source": [
        "Let's do a line-by-line analysis.\n",
        "\n",
        "1.  `fig,ax = plt.subplots(1,1,figsize=(8,5))`\n",
        "\n",
        "2.  `N_array = np.array([2**n for n in range(1,21)])`\n",
        "\n",
        "3.  `for method in [make_sq_1, make_sq_2, make_sq_3, make_sq_4]:`\n",
        "\n",
        "4.  `  time_array = np.zeros(len(N_array)) # Initialize an array of zeros`\n",
        "\n",
        "5.  `  for j,N in enumerate(N_array):`\n",
        "\n",
        "6.  `    time_tot = 0`\n",
        "    `for reps in range(10):`\n",
        "      `start_time = time.time()`\n",
        "      `method(N)`\n",
        "      `end_time = time.time()`\n",
        "      `time_tot += end_time - start_time`\n",
        "    `time_ave = time_tot / 10`\n",
        "\n",
        "    `time_array[j] = time_ave`\n",
        "7.    `plt.plot(N_array, time_array, label='Time using function '+method.__name__)`\n",
        "\n",
        "8.  `plt.legend()`\n",
        "\n",
        "9.  `plt.xscale('log')`\n",
        "10. `plt.yscale('log')`"
      ]
    },
    {
      "cell_type": "markdown",
      "metadata": {
        "id": "0Ucwm_uHKL1w"
      },
      "source": [
        "Line 1 initializes a plot, with figure size 8 inches by 5 inches.  The \"1,1\" means that the plot has no subplots, or more precisely, it is a 1 by 1 grid of plots.  (Only one plot).\n",
        "\n",
        "In line 2, we use a list comprehension to make a list [2,4,8,16,..., 2^20].  Note that 2^20 is about one million.  These are the N's that we're going to work with.\n",
        "\n",
        "Line 3 might be surprising and interesting.  The variable `method` is iterated through an array of four *functions*!  Yes, we can have a list of functions!  And then we can use those functions!  Functions are Python objects like any other, and they can be treated as such.\n",
        "\n",
        "Lines 4-6 create an array of times.  Instead of using the %timeit magic, we store our times in an array, and we carry out a timing experiment from scratch.  Line 4 just initializes a numpy array of zeros to fill later.\n",
        "\n",
        "Line 5 has a new command `enumerate` in the loop.  This makes `N` iterate through our `N_array`, and meanwhile `j` will simply \"count up\".  It's equivalent to setting `j=0` before the loop, and putting a `j = j + 1` within the loop to count.\n",
        "\n",
        "Line 6 carries out the timing experiment.  It runs a function (`method`) to create a list of squares up to `N`.  It does this 10 times, checking the time before and after each time.  Then it computes the average amount of time elapsed (among the 10 repetitions) and records this in the `time_array`.\n",
        "\n",
        "Line 7 plots `N` on the x-axis and time (`time_array`) on the y-axis with a line plot.  It assigns this plot a label, which is the name of the method.  To find the name of the function `method`, you can use `method.__name__`.  That's a bit fancier Python.\n",
        "\n",
        "Finally, Line 8 produces the legend from the labels.  \n",
        "\n",
        "Lines 9 and 10 make the x-axis and y-axis log-scaled, which is helpful since the variable `N` is increasing exponentially, and some times are as short as microseconds while others are closer to milliseconds or seconds.\n",
        "\n",
        "The rest is styling."
      ]
    },
    {
      "cell_type": "markdown",
      "metadata": {
        "id": "6anmwPIoLwdu"
      },
      "source": [
        "## Exercises\n",
        "\n",
        "1.  Interpret the plot above.  Which method is fastest for long lists?  Which method is fastest for short lists?  At what size `N` should you switch from one method to the other?\n",
        "\n",
        "2.  Add another method to the plot, by defining your own function `make_sq_5` that mirros the basic structure of the other `make_sq` functions.  Note that your function must create the list in a different way, but it should still take the same parameter `N` and return a list or numpy array.  Create the plot with your function added to the other four, and compare the performance of your method to the others.\n",
        "\n",
        "3.  Create a function with `def inflate(S):` which takes as input a string `S` and returns a string in which the 1st letter of `S` appears once, and the second letter appears twice, the third letter appears three times, etc.  For example, `inflate('Hello')` should return the string `'Heelllllllooooo'`.  You must use a loop of the form `for j,letter in enumerate(S):`, and *no other loops*!"
      ]
    },
    {
      "cell_type": "markdown",
      "source": [
        "1. For long lists method 4 using Numpy is easily the fastest method, but for short lists, methods 2 and 3 are the way to go. Once your list reaches 100 values in length you should switch to method 4."
      ],
      "metadata": {
        "id": "nW9QGMI6svVz"
      }
    },
    {
      "cell_type": "markdown",
      "source": [
        "2."
      ],
      "metadata": {
        "id": "zyhkLWK3t5Rj"
      }
    },
    {
      "cell_type": "code",
      "source": [
        "def make_sq_5(N):\n",
        "  L = np.zeros(N)\n",
        "  for n in range(N):\n",
        "    L[n] = n*n\n",
        "  return L"
      ],
      "metadata": {
        "id": "B2r1KIzquWGt"
      },
      "execution_count": null,
      "outputs": []
    },
    {
      "cell_type": "markdown",
      "source": [
        "This method was consistently the slowest method across the board and I am quite disapointed in myself."
      ],
      "metadata": {
        "id": "LnFN5wsUu9km"
      }
    },
    {
      "cell_type": "code",
      "source": [
        "def make_sq_6(N):\n",
        "  L = np.square(np.arange(N))\n",
        "  return L"
      ],
      "metadata": {
        "id": "dnH3JbL5vHDB"
      },
      "execution_count": null,
      "outputs": []
    },
    {
      "cell_type": "markdown",
      "source": [
        "This method is even faster than the other numpy method in some areas!"
      ],
      "metadata": {
        "id": "PtX9d7pr0Cfg"
      }
    },
    {
      "cell_type": "code",
      "source": [
        "def make_sq_7(N):\n",
        "  L = np.power(np.arange(N), 2)\n",
        "  return L"
      ],
      "metadata": {
        "id": "e9CG6bgQwzU_"
      },
      "execution_count": null,
      "outputs": []
    },
    {
      "cell_type": "markdown",
      "source": [
        "A little slower"
      ],
      "metadata": {
        "id": "VVUiGRm50OcO"
      }
    },
    {
      "cell_type": "markdown",
      "source": [
        "3."
      ],
      "metadata": {
        "id": "JvE_mjb3xMaS"
      }
    },
    {
      "cell_type": "code",
      "source": [
        "def inflate(S):\n",
        "  letters = []\n",
        "  for j,l in enumerate(S):\n",
        "    letters.append(l)\n",
        "    letters[j] = (j+1) * l\n",
        "  return \"\".join(letters)\n",
        "\n",
        "  "
      ],
      "metadata": {
        "id": "IzVlOvVLxNLS"
      },
      "execution_count": null,
      "outputs": []
    },
    {
      "cell_type": "code",
      "source": [
        "inflate('hello')"
      ],
      "metadata": {
        "colab": {
          "base_uri": "https://localhost:8080/",
          "height": 35
        },
        "id": "LCsOEjePyuf6",
        "outputId": "607ecc65-458a-4678-daef-ae5c40281719"
      },
      "execution_count": null,
      "outputs": [
        {
          "output_type": "execute_result",
          "data": {
            "text/plain": [
              "'heelllllllooooo'"
            ],
            "application/vnd.google.colaboratory.intrinsic+json": {
              "type": "string"
            }
          },
          "metadata": {},
          "execution_count": 87
        }
      ]
    },
    {
      "cell_type": "markdown",
      "metadata": {
        "id": "F3CDgf54dWoL"
      },
      "source": [
        "# Final challenges!\n",
        "\n",
        "Please turn in your notebooks with your attempts on **two** of the challenges below.  **Only two** will be graded."
      ]
    },
    {
      "cell_type": "markdown",
      "metadata": {
        "id": "HJJWMj_8VdXg"
      },
      "source": [
        "## Challenge 1\n",
        "\n",
        "If $N$ is a positive integer, then $r_3(N)$ is the number of ways that $N$ can be expressed as the sum of three squares.  Order and sign matter, so for example\n",
        "$$6 = 1^2 + 1^2 + 2^2 = (-1)^2 + 1^2 + 2^2 = 2^2 + (-1)^2 + (-1)^2 = \\cdots$$\n",
        "These are all different ways of expressing 6 as the sum of three squares.  In fact, $r_3(6) = 8 \\cdot 3 = 24$.  The 8 comes from the fact that there are eight sign-choices, and the 3 comes from the three orderings (1,1,2) and (1,2,1) and (2,1,1).\n",
        "\n",
        "In other words, $r_3(N)$ is the number of elements in the following set:\n",
        "$$\\{ (a,b,c) \\in {\\mathbb Z}^3 : a^2 + b^2 + c^2 = N \\}.$$\n",
        "\n",
        "Write a function that computes $r_3(N)$ as efficiently as you can, for somewhat large values of $N$ (e.g., $N \\approx 1000$).\n",
        "\n",
        "You can check whether your function is behaving correctly, by comparing to the values found at the [Online Encyclopedia of Integer Sequences](https://oeis.org/A005875).\n",
        "\n",
        "\n"
      ]
    },
    {
      "cell_type": "code",
      "source": [
        "def zerocheck(threelist):\n",
        "  if threelist.count(0) == 3:\n",
        "    return 1\n",
        "  elif threelist.count(0) == 2:\n",
        "    return 2\n",
        "  elif threelist.count(0) == 1:\n",
        "    return 4\n",
        "  else:\n",
        "    return 8\n",
        "\n"
      ],
      "metadata": {
        "id": "YneBoe-SUg-Z"
      },
      "execution_count": 3,
      "outputs": []
    },
    {
      "cell_type": "code",
      "source": [
        "def repeatcheck(threelist):\n",
        "  if len(set(threelist)) == 3:\n",
        "    return 6\n",
        "  elif len(set(threelist)) == 2:\n",
        "    return 3\n",
        "  elif len(set(threelist)) == 1:\n",
        "    return 1\n"
      ],
      "metadata": {
        "id": "On2YY-QAZq0a"
      },
      "execution_count": 4,
      "outputs": []
    },
    {
      "cell_type": "code",
      "source": [
        "set([0,1,2])"
      ],
      "metadata": {
        "colab": {
          "base_uri": "https://localhost:8080/"
        },
        "id": "lPXFlk0JaJu9",
        "outputId": "a33c0bcf-9cde-4715-bb1b-5b38ca10f228"
      },
      "execution_count": null,
      "outputs": [
        {
          "output_type": "execute_result",
          "data": {
            "text/plain": [
              "{0, 1, 2}"
            ]
          },
          "metadata": {},
          "execution_count": 103
        }
      ]
    },
    {
      "cell_type": "code",
      "source": [
        "zerocheck([1,1,2])"
      ],
      "metadata": {
        "colab": {
          "base_uri": "https://localhost:8080/"
        },
        "id": "r8pLC63GVpiK",
        "outputId": "1fd09390-588b-4c2d-e6c9-d2e733a182da"
      },
      "execution_count": null,
      "outputs": [
        {
          "output_type": "execute_result",
          "data": {
            "text/plain": [
              "8"
            ]
          },
          "metadata": {},
          "execution_count": 114
        }
      ]
    },
    {
      "cell_type": "code",
      "source": [
        "repeatcheck([1,1,2])"
      ],
      "metadata": {
        "colab": {
          "base_uri": "https://localhost:8080/"
        },
        "id": "u6dzOQuTedee",
        "outputId": "901193a0-3ebf-4328-ad91-ff2a6e713b77"
      },
      "execution_count": null,
      "outputs": [
        {
          "output_type": "execute_result",
          "data": {
            "text/plain": [
              "3"
            ]
          },
          "metadata": {},
          "execution_count": 113
        }
      ]
    },
    {
      "cell_type": "code",
      "metadata": {
        "id": "MqXUlGr6UbAI"
      },
      "source": [
        "def rep_three(N):\n",
        "  x = 0\n",
        "  y = 0\n",
        "  z = 0\n",
        "  L = [x,y,z]\n",
        "  count = 0\n",
        "  root = np.sqrt(N)\n",
        "  while L[0] < root:\n",
        "    if L[0] ** 2 + L[1] ** 2 + L[2] ** 2 == N:\n",
        "      count += zerocheck(L) * repeatcheck(L)\n",
        "    L[0] += 1\n",
        "    while L[1] < L[0]:\n",
        "      if L[0] ** 2 + L[1] ** 2 + L[2] ** 2 == N:\n",
        "        count += zerocheck(L) * repeatcheck(L)\n",
        "      L[1] += 1\n",
        "      while L[2] <= L[1]:\n",
        "        if L[0] ** 2 + L[1] ** 2 + L[2] ** 2 == N:\n",
        "          count += zerocheck(L) * repeatcheck(L)\n",
        "        L[2] += 1\n",
        "        \n",
        "    L[2] = 0\n",
        "    L[1] = 0\n",
        "  return count"
      ],
      "execution_count": 17,
      "outputs": []
    },
    {
      "cell_type": "code",
      "metadata": {
        "id": "CCzEYimdUa9Z",
        "colab": {
          "base_uri": "https://localhost:8080/"
        },
        "outputId": "150a23db-7e8f-4819-8340-398be2c0f3ac"
      },
      "source": [
        "rep_three(6) # This should output 24."
      ],
      "execution_count": 18,
      "outputs": [
        {
          "output_type": "execute_result",
          "data": {
            "text/plain": [
              "24"
            ]
          },
          "metadata": {},
          "execution_count": 18
        }
      ]
    },
    {
      "cell_type": "markdown",
      "source": [],
      "metadata": {
        "id": "bk5CpduZyhAH"
      }
    },
    {
      "cell_type": "code",
      "metadata": {
        "id": "Yoqn17uMUax1"
      },
      "source": [],
      "execution_count": null,
      "outputs": []
    },
    {
      "cell_type": "markdown",
      "metadata": {
        "id": "qRLhmGVkXd8K"
      },
      "source": [
        "# Challenge 2\n",
        "\n",
        "If $r$ is a positive real number, then the area of the circle of radius $r$ is $\\pi r^2$.  If you place this circle around the origin, on a sheet of graph paper, then you will find *about* $\\pi r^2$ \"grid points\" inside this circle.  The grid points inside the circle form the set\n",
        "$$S = \\{ (x,y) \\in {\\mathbb Z}^2 : x^2 + y^2 < r^2 \\}.$$\n",
        "\n",
        "Define $E(r) = \\pi r^2 - \\# S$ to be the \"error\" -- the difference between the area of the circle and the number of grid points within the circle.  \n",
        "\n",
        "Create a plot with $r$ on the horizontal axis and $E(r)$ on the y-axis.  Try to accomplish this as efficiently as possible, where $r$ ranges from $0$ to $1000$.\n",
        "\n",
        "Can you come up with a good bound $\\vert E(r) \\vert \\leq f(r)$ for some nice function $f(r)$, just by looking at your plot?  I.e., your plot of $E(r)$ should be bounded above by the graph of $y = f(r)$ and below by the graph of $y = -f(r)$.  If you can come up with such a bound, plot it too."
      ]
    },
    {
      "cell_type": "code",
      "metadata": {
        "id": "_gyzNqCaUavY"
      },
      "source": [],
      "execution_count": null,
      "outputs": []
    },
    {
      "cell_type": "markdown",
      "metadata": {
        "id": "kYWSMHMsY853"
      },
      "source": [
        "# Challenge 3\n",
        "\n",
        "The following result was found by Euler, but I've changed his numbers to $A$ and $B$ to make your life hard.\n",
        "\n",
        "Theorem:  A prime number $p$ can be expressed in the form $x^2 + 3 y^2$ if and only if $p$ is congruent to $A$ modulo $B$ (i.e., `p % B == A`).  \n",
        "\n",
        "Use experimental techniques to determine $A$ and $B$.  Now try the same for $3$ replaced by $4,5,6,7,8,9$. "
      ]
    },
    {
      "cell_type": "markdown",
      "metadata": {
        "id": "Zg0Nc1e6aDi7"
      },
      "source": [
        "# Challenge 4\n",
        "\n",
        "Pascal's triangle has $1$ in the first row, then $1, 1$ in the second rod, then $1,2,1$ in the third row, etc.  One can place these numbers in a triangle, with \"rows\" as diagonals, as drawn below.\n",
        "\n",
        "1 1 1 1 1 1\n",
        "\n",
        "1 2 3 4 5\n",
        "\n",
        "1 3 6 10\n",
        "\n",
        "1 4 10\n",
        "\n",
        "1 5\n",
        "\n",
        "1\n",
        "\n",
        "Et cetera.\n",
        "\n",
        "Turn these numbers into black and white dots, depending on whether they are even (black) or odd (white).  This produces an image like the following:\n",
        "\n",
        "X X X X X X\n",
        "\n",
        "X O X O X\n",
        "\n",
        "X X O O\n",
        "\n",
        "X O O\n",
        "\n",
        "X X\n",
        "\n",
        "X\n",
        "\n",
        "Now perform this in PIL, to create an image that fills the top-left triangle in an image of at least 200 x 200 pixels.  You should *not* be computing giant numbers like 200 factorial!  Each row of Pascal's triangle can be computed from the previous by addition... and you can perform this \"mod 2\" all the way through.\n",
        "\n",
        "Extra fun:  instead of black/white dots for even/odd, try colors based on remainders after dividing by three, by four, etc.\n"
      ]
    },
    {
      "cell_type": "code",
      "source": [
        "TriangleM = np.zeros((200,200))"
      ],
      "metadata": {
        "id": "qgp4yfRV0rS9"
      },
      "execution_count": 19,
      "outputs": []
    },
    {
      "cell_type": "code",
      "source": [],
      "metadata": {
        "colab": {
          "base_uri": "https://localhost:8080/"
        },
        "id": "SJs5DtHv0vSK",
        "outputId": "586ca040-e24e-496c-cc3c-189b97dc64dd"
      },
      "execution_count": 39,
      "outputs": [
        {
          "output_type": "stream",
          "name": "stdout",
          "text": [
            "[  1.   4.  11.  23.  41.  66.  99. 141. 193. 256.]\n"
          ]
        }
      ]
    },
    {
      "cell_type": "markdown",
      "metadata": {
        "id": "qjBNKFCd95sS"
      },
      "source": [
        "# Challenge 5\n",
        "\n",
        "Often when visualizing time-series data, it makes sense to look not at day-by-day changes, but rather at a 7-day rolling average.  For example, when looking at Covid-19 cases, there are reporting fluctuations from day to day, so instead it is usually better to look at the average number of cases over the previous 7 days.\n",
        "\n",
        "Write a function `def rolling(A, window=7):` which takes as input a one-dimensional numpy array `A`, and a parameter `window` whose default value is `7`.  The function must return an array `R` whose length is shorter than the length of `A`.  The entry `R[j]` should be the **average** of `A[j]`, `A[j+1]`, etc., up to `A[j+window-1]`.  \n",
        "\n",
        "Then use this function and matplotlib to produce a plot:  a line plot of the array `A` produced below, and a line plot of the 7-day rolling average `R` produced by your function.  These plots should be on the same figure, and clearly labeled.\n"
      ]
    },
    {
      "cell_type": "code",
      "metadata": {
        "id": "lu-pNl8SbeEG"
      },
      "source": [
        "# Here is the code to produce your test array A.\n",
        "# Please use this array in your plot!\n",
        "\n",
        "x_array = np.arange(300)\n",
        "A = 5*(x_array/200)**2\n",
        "A = A + np.random.random(len(A))"
      ],
      "execution_count": 40,
      "outputs": []
    },
    {
      "cell_type": "code",
      "source": [
        "print(A)"
      ],
      "metadata": {
        "colab": {
          "base_uri": "https://localhost:8080/"
        },
        "id": "t_FD0PDA7zlh",
        "outputId": "033aa4a5-b1be-426b-aa59-56d41a88956d"
      },
      "execution_count": 41,
      "outputs": [
        {
          "output_type": "stream",
          "name": "stdout",
          "text": [
            "[ 0.22050247  0.47701616  0.95432883  0.45383899  0.46233112  0.61111743\n",
            "  0.83150027  0.95096357  0.78678306  0.57831438  0.35275402  0.21627697\n",
            "  0.80636672  0.39512427  0.84360885  0.11871836  0.28298935  0.41554207\n",
            "  0.55893043  0.78375381  0.65509449  1.02624726  0.2804258   0.66623704\n",
            "  0.20960945  0.7859595   0.4527854   0.95527456  0.48789615  0.98374591\n",
            "  1.02214108  0.63185333  0.42474128  0.79749485  0.4067331   0.71066741\n",
            "  0.8353036   0.49760696  0.62872748  0.53098099  1.08926458  0.95751443\n",
            "  0.31341026  1.00382455  0.44497126  0.68741739  1.18083923  0.38623753\n",
            "  0.56101208  0.72751368  0.98403103  0.81616898  0.43191227  0.72333946\n",
            "  0.8516693   1.18581541  1.2571442   1.3158541   1.39960112  1.22974659\n",
            "  0.49762009  0.49376404  0.89750382  1.08441726  1.43052109  1.3461589\n",
            "  0.62270824  0.79831116  0.68277249  0.75484669  1.58877845  0.63044138\n",
            "  0.71728703  1.37149507  1.12834984  0.93330591  0.91447973  0.91114234\n",
            "  1.24157465  1.65660153  1.6020155   0.86083176  0.96911769  1.85418344\n",
            "  1.85434799  1.18965637  1.05798301  0.94877038  1.86355578  1.33794599\n",
            "  1.39535782  1.28732848  1.81778442  1.56078157  1.99105667  1.48105634\n",
            "  1.56565406  1.30436537  1.52289009  1.94241442  1.9679965   1.87237782\n",
            "  1.90785195  1.44109355  2.08897309  2.17506279  2.30414141  2.27354158\n",
            "  1.65725374  1.6221078   1.74435256  2.47257271  1.94484832  2.24928347\n",
            "  2.19677775  2.59542444  1.76260758  2.07915553  1.9485335   2.41497438\n",
            "  2.01972468  2.12760221  2.50551572  2.22265816  2.83101269  2.08960941\n",
            "  2.33034469  2.04559566  2.78914371  2.82713263  2.94533725  3.12549537\n",
            "  2.46551832  2.81155369  2.52652231  3.01630009  2.33131023  2.52091483\n",
            "  2.90764046  3.22251941  3.11182515  3.36126271  3.07935694  3.14939288\n",
            "  2.91417095  2.72015544  2.83100601  3.17374652  2.96721717  3.12552527\n",
            "  3.55735823  3.08897245  2.98436711  3.745599    3.21088407  3.931639\n",
            "  3.0448457   3.80027963  4.08222804  3.96795249  3.24049512  3.44853413\n",
            "  3.61537492  3.82317944  4.04118103  3.65473128  4.01100802  3.75232071\n",
            "  3.59157675  3.60272394  4.32729495  4.26870609  4.62028621  4.02721231\n",
            "  4.45431533  4.39645805  4.20308633  4.90415096  4.13138379  4.15462894\n",
            "  4.54280885  4.18237351  4.29071669  4.71963516  5.02005218  4.3622373\n",
            "  4.62934453  5.0940187   4.96116249  4.55457335  4.936421    4.65168269\n",
            "  4.70759261  5.25812821  5.28952115  4.91786541  5.65891041  5.23123653\n",
            "  5.86127276  5.38362812  5.34954227  5.37336047  5.2600551   5.61399792\n",
            "  5.58000916  5.89706305  6.29084214  5.57279494  6.32413871  5.91439716\n",
            "  6.05396349  6.16346973  5.95273364  5.93967253  6.6352971   6.02179475\n",
            "  5.8716107   5.90644566  6.1779068   6.26559721  6.91519172  6.71483737\n",
            "  7.07756343  6.84454833  7.15300815  6.53357974  6.85626392  6.97524322\n",
            "  6.6109721   7.16137722  6.72626993  6.69794677  7.54915319  7.042904\n",
            "  7.71476327  7.45604511  7.75985417  7.64178806  7.1994468   7.29340592\n",
            "  8.12826922  7.55914566  7.62302018  7.47402679  7.45229094  8.03401812\n",
            "  7.95462038  8.08006748  7.94865991  8.27566548  8.52380791  8.86286931\n",
            "  8.71633017  8.53897896  8.1643502   8.8731584   8.9000197   8.59316571\n",
            "  8.73553167  8.81664978  9.06032693  9.17558342  8.87317635  9.55148477\n",
            "  9.48679256  9.60913113  9.59964509  9.61446029  9.36377139  9.44610879\n",
            "  9.26694961  9.38123317  9.84914645  9.62983785  9.80244735 10.38717777\n",
            "  9.64746064 10.48360978 10.05277823 10.12814444 10.59009413 10.25293891\n",
            "  9.95084673 10.1369773  10.40816925 10.57631254 10.68712116 11.06101358\n",
            " 10.79996952 10.94786454 11.50592871 10.68938872 11.57128759 11.01554239\n",
            " 11.69221866 11.85018556 11.06182193 11.52316226 11.95888472 11.69533415]\n"
          ]
        }
      ]
    },
    {
      "cell_type": "code",
      "metadata": {
        "id": "3OlNFd1xJ1CV"
      },
      "source": [
        "def rolling(A, window=7):\n",
        "  r = np.zeros((len(A) - window))\n",
        "  for j in range(len(A) - window):\n",
        "    step = 0\n",
        "    value = 0\n",
        "    while step <= window - 1:\n",
        "      value += A[j + step]\n",
        "      step += 1\n",
        "    r[j] = value / window\n",
        "  return r\n",
        "    \n"
      ],
      "execution_count": 47,
      "outputs": []
    },
    {
      "cell_type": "code",
      "metadata": {
        "id": "oq5NDBV4_tCs"
      },
      "source": [
        "# Please use this code to import matplotlib.\n",
        "import matplotlib.pyplot as plt"
      ],
      "execution_count": 49,
      "outputs": []
    },
    {
      "cell_type": "code",
      "source": [
        "rolling(A)"
      ],
      "metadata": {
        "colab": {
          "base_uri": "https://localhost:8080/"
        },
        "id": "BJ6G4EN-_Q4o",
        "outputId": "84fa1808-390d-40d3-ee4e-0fd669eedf08"
      },
      "execution_count": 57,
      "outputs": [
        {
          "output_type": "execute_result",
          "data": {
            "text/plain": [
              "array([ 0.5729479 ,  0.67729948,  0.7215519 ,  0.66783555,  0.65339484,\n",
              "        0.61824424,  0.646137  ,  0.58379757,  0.56846118,  0.47302336,\n",
              "        0.43083407,  0.4398038 ,  0.48875429,  0.48552388,  0.52266248,\n",
              "        0.54875368,  0.57185475,  0.62660442,  0.59718547,  0.62961819,\n",
              "        0.58233699,  0.62521986,  0.54831256,  0.64878686,  0.69963029,\n",
              "        0.75995085,  0.70834824,  0.75759245,  0.67922938,  0.71105385,\n",
              "        0.68984781,  0.61491436,  0.61446781,  0.62964491,  0.6713263 ,\n",
              "        0.75000935,  0.69325833,  0.71733275,  0.70981336,  0.71819764,\n",
              "        0.81103453,  0.71060209,  0.6539589 ,  0.71311653,  0.71028889,\n",
              "        0.76331713,  0.7268164 ,  0.66145929,  0.72794954,  0.81720716,\n",
              "        0.89286866,  0.94027196,  1.02361941,  1.13759574,  1.10535012,\n",
              "        1.05422079,  1.01303342,  0.98835815,  1.00473914,  0.99710454,\n",
              "        0.91038478,  0.95334064,  0.98034185,  0.95996226,  1.03201386,\n",
              "        0.91771676,  0.82787792,  0.93484747,  0.98199585,  1.01778634,\n",
              "        1.04059106,  0.9437859 ,  1.03109065,  1.16527844,  1.19820993,\n",
              "        1.15999306,  1.16510903,  1.29935241,  1.43409608,  1.42667918,\n",
              "        1.34116225,  1.24784152,  1.39108781,  1.44377757,  1.37823105,\n",
              "        1.29722826,  1.38696084,  1.45878921,  1.60768725,  1.55304447,\n",
              "        1.5855742 ,  1.57257527,  1.60622693,  1.62403122,  1.68220478,\n",
              "        1.66525066,  1.72622146,  1.7084271 ,  1.82051392,  1.91368145,\n",
              "        1.96535673,  2.00900603,  1.97827402,  1.93745342,  1.98077614,\n",
              "        2.03557608,  2.0026883 ,  1.99485145,  1.98388519,  2.11790958,\n",
              "        2.13798098,  2.18580997,  2.11094723,  2.17810809,  2.14531398,\n",
              "        2.13543176,  2.12258766,  2.18830917,  2.29571734,  2.31587104,\n",
              "        2.30378108,  2.30747693,  2.40198286,  2.44792814,  2.55116801,\n",
              "        2.59323696,  2.64693823,  2.71568238,  2.78438618,  2.8168371 ,\n",
              "        2.74600532,  2.68537355,  2.65425142,  2.76239443,  2.80529035,\n",
              "        2.92453898,  2.9335471 ,  3.05041605,  3.1065955 ,  3.07981193,\n",
              "        3.02388144,  3.03272735,  2.97643513,  2.98303061,  3.04131137,\n",
              "        3.06628301,  3.10402754,  3.23468368,  3.23998904,  3.37776359,\n",
              "        3.36623794,  3.40094099,  3.54283465,  3.68334685,  3.61118915,\n",
              "        3.64513916,  3.59995858,  3.71114911,  3.7455636 ,  3.68449263,\n",
              "        3.69064342,  3.76376136,  3.78419602,  3.78238874,  3.85440524,\n",
              "        3.88690882,  4.02484524,  4.02716014,  4.12744508,  4.24242813,\n",
              "        4.32819418,  4.41060218,  4.39098471,  4.32446224,  4.39811889,\n",
              "        4.35927006,  4.34416415,  4.41795684,  4.43451416,  4.46749323,\n",
              "        4.53530975,  4.61405401,  4.72530958,  4.76300339,  4.79397279,\n",
              "        4.74134858,  4.79068505,  4.88051129,  4.90844021,  4.90225492,\n",
              "        5.06001735,  5.10213386,  5.27493244,  5.37150894,  5.38456809,\n",
              "        5.39654514,  5.44542938,  5.43901331,  5.48883797,  5.49395087,\n",
              "        5.62355287,  5.65544611,  5.79127157,  5.88474901,  5.94760123,\n",
              "        6.03095274,  6.03890569,  5.9887386 ,  6.14052462,  6.09733263,\n",
              "        6.09122028,  6.0701463 ,  6.07220874,  6.11690354,  6.25626342,\n",
              "        6.26762632,  6.41845041,  6.5574415 ,  6.73552186,  6.78633228,\n",
              "        6.87071324,  6.87929202,  6.86445413,  6.87642752,  6.85953061,\n",
              "        6.79452184,  6.93960376,  6.96626663,  7.07191235,  7.19263707,\n",
              "        7.27813378,  7.40892208,  7.48056494,  7.44402962,  7.59908179,\n",
              "        7.57685071,  7.60070429,  7.5598718 ,  7.53280079,  7.65202526,\n",
              "        7.74648447,  7.73959851,  7.7952434 ,  7.88847844,  8.03844717,\n",
              "        8.23995837,  8.33743152,  8.42091132,  8.43295171,  8.56502292,\n",
              "        8.65421638,  8.66412464,  8.64593355,  8.66026492,  8.7347432 ,\n",
              "        8.87920509,  8.87920765,  8.97227409,  9.09993507,  9.22473499,\n",
              "        9.33659146,  9.41575337,  9.44263737,  9.52448486,  9.48383698,\n",
              "        9.46875707,  9.50304497,  9.50735822,  9.53421352,  9.68041443,\n",
              "        9.70917898,  9.88298757,  9.97892258, 10.01877943, 10.1559589 ,\n",
              "       10.22031484, 10.15798184, 10.22791279, 10.21713557, 10.29192619,\n",
              "       10.37178   , 10.43905421, 10.51720144, 10.65963255, 10.85519704,\n",
              "       10.89537125, 11.03751054, 11.08442786, 11.17460002, 11.32463088,\n",
              "       11.34091051, 11.34337245, 11.52472902])"
            ]
          },
          "metadata": {},
          "execution_count": 57
        }
      ]
    },
    {
      "cell_type": "code",
      "source": [
        "R = rolling(A)"
      ],
      "metadata": {
        "id": "K6PFYZI4AZ-x"
      },
      "execution_count": 58,
      "outputs": []
    },
    {
      "cell_type": "code",
      "source": [
        "newx = np.arange(293)"
      ],
      "metadata": {
        "id": "hAJFOU4dAkqP"
      },
      "execution_count": 60,
      "outputs": []
    },
    {
      "cell_type": "code",
      "metadata": {
        "id": "9BM_gTge_6rb",
        "colab": {
          "base_uri": "https://localhost:8080/",
          "height": 308
        },
        "outputId": "5f06fede-54f7-468a-b2ea-85fa54533d49"
      },
      "source": [
        "# Here is a plot of the array, to get you started.  \n",
        "plt.plot(newx, A[:293], label='Covid-19 cases per day')\n",
        "plt.plot(newx, R, label='Rolling 7 day average of Covid-19 cases')\n",
        "plt.legend()\n",
        "plt.suptitle('Rolling average vs day by day Covid-19 cases')\n",
        "plt.xlabel('Days')\n",
        "plt.ylabel('Covid-19 cases')\n",
        "plt.grid(True)\n",
        "plt.show()\n",
        "\n",
        "# Now it's time to write your function to produce the 7-day rolling average, add it to the plot, and make everything clear and labeled."
      ],
      "execution_count": 70,
      "outputs": [
        {
          "output_type": "display_data",
          "data": {
            "text/plain": [
              "<Figure size 432x288 with 1 Axes>"
            ],
            "image/png": "[encoded data removed]"
          },
          "metadata": {
            "needs_background": "light"
          }
        }
      ]
    },
    {
      "cell_type": "code",
      "source": [],
      "metadata": {
        "id": "D0vv7r2h_SEe"
      },
      "execution_count": null,
      "outputs": []
    }
  ]
}